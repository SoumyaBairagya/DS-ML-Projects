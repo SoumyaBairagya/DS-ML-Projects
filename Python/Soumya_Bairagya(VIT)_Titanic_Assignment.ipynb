{
  "nbformat": 4,
  "nbformat_minor": 0,
  "metadata": {
    "colab": {
      "provenance": [],
      "toc_visible": true
    },
    "kernelspec": {
      "name": "python3",
      "display_name": "Python 3"
    }
  },
  "cells": [
    {
      "cell_type": "markdown",
      "metadata": {
        "id": "fNAFPWwTCREx"
      },
      "source": [
        "#Self\n",
        "\n",
        "Name - Soumya Bairagya\n",
        "\n",
        "College - VIT, Pune\n",
        "\n",
        "E-mail - bairagyasoumya2001@gmail.com\n",
        "\n",
        "Ph no - 9860135277"
      ]
    },
    {
      "cell_type": "markdown",
      "metadata": {
        "id": "DKnRX6tnCVyH"
      },
      "source": [
        "#Titanic Assignment"
      ]
    },
    {
      "cell_type": "code",
      "metadata": {
        "id": "38OS5d1ybLiT"
      },
      "source": [
        "#Importing required libraries\n",
        "import numpy as np\n",
        "import pandas as pd\n",
        "import matplotlib.pyplot as plt\n",
        "import seaborn as sns"
      ],
      "execution_count": null,
      "outputs": []
    },
    {
      "cell_type": "code",
      "metadata": {
        "id": "LGetkm-6CtUx"
      },
      "source": [
        "df_train = pd.read_csv(\"train.csv\")\n",
        "df_test = pd.read_csv(\"test.csv\")"
      ],
      "execution_count": null,
      "outputs": []
    },
    {
      "cell_type": "code",
      "metadata": {
        "id": "F9k3dActP79J"
      },
      "source": [
        "df_train.Sex = df_train.Sex.replace((\"male\",\"female\"),(1,0))\n",
        "df_test.Sex = df_test.Sex.replace((\"male\",\"female\"),(1,0))"
      ],
      "execution_count": null,
      "outputs": []
    },
    {
      "cell_type": "markdown",
      "metadata": {
        "id": "96B7VW0bbfoZ"
      },
      "source": [
        "*.............Assigning 0 to female and 1 to male*"
      ]
    },
    {
      "cell_type": "code",
      "metadata": {
        "id": "SohlYohWPIlB",
        "colab": {
          "base_uri": "https://localhost:8080/",
          "height": 136
        },
        "outputId": "91cf796a-8810-4790-fc73-71ecd6c2aa00"
      },
      "source": [
        "imp = df_train.groupby(\"Survived\").mean()\n",
        "imp"
      ],
      "execution_count": null,
      "outputs": [
        {
          "output_type": "execute_result",
          "data": {
            "text/html": [
              "<div>\n",
              "<style scoped>\n",
              "    .dataframe tbody tr th:only-of-type {\n",
              "        vertical-align: middle;\n",
              "    }\n",
              "\n",
              "    .dataframe tbody tr th {\n",
              "        vertical-align: top;\n",
              "    }\n",
              "\n",
              "    .dataframe thead th {\n",
              "        text-align: right;\n",
              "    }\n",
              "</style>\n",
              "<table border=\"1\" class=\"dataframe\">\n",
              "  <thead>\n",
              "    <tr style=\"text-align: right;\">\n",
              "      <th></th>\n",
              "      <th>PassengerId</th>\n",
              "      <th>Pclass</th>\n",
              "      <th>Sex</th>\n",
              "      <th>Age</th>\n",
              "      <th>SibSp</th>\n",
              "      <th>Parch</th>\n",
              "      <th>Fare</th>\n",
              "    </tr>\n",
              "    <tr>\n",
              "      <th>Survived</th>\n",
              "      <th></th>\n",
              "      <th></th>\n",
              "      <th></th>\n",
              "      <th></th>\n",
              "      <th></th>\n",
              "      <th></th>\n",
              "      <th></th>\n",
              "    </tr>\n",
              "  </thead>\n",
              "  <tbody>\n",
              "    <tr>\n",
              "      <th>0</th>\n",
              "      <td>447.016393</td>\n",
              "      <td>2.531876</td>\n",
              "      <td>0.852459</td>\n",
              "      <td>30.626179</td>\n",
              "      <td>0.553734</td>\n",
              "      <td>0.329690</td>\n",
              "      <td>22.117887</td>\n",
              "    </tr>\n",
              "    <tr>\n",
              "      <th>1</th>\n",
              "      <td>444.368421</td>\n",
              "      <td>1.950292</td>\n",
              "      <td>0.318713</td>\n",
              "      <td>28.343690</td>\n",
              "      <td>0.473684</td>\n",
              "      <td>0.464912</td>\n",
              "      <td>48.395408</td>\n",
              "    </tr>\n",
              "  </tbody>\n",
              "</table>\n",
              "</div>"
            ],
            "text/plain": [
              "          PassengerId    Pclass       Sex  ...     SibSp     Parch       Fare\n",
              "Survived                                   ...                               \n",
              "0          447.016393  2.531876  0.852459  ...  0.553734  0.329690  22.117887\n",
              "1          444.368421  1.950292  0.318713  ...  0.473684  0.464912  48.395408\n",
              "\n",
              "[2 rows x 7 columns]"
            ]
          },
          "metadata": {
            "tags": []
          },
          "execution_count": 113
        }
      ]
    },
    {
      "cell_type": "markdown",
      "metadata": {
        "id": "MorIjUUwawi2"
      },
      "source": [
        "So, from above, we find that the important features are **Pclass, Sex, Age, SibSp, Parch, Fare**"
      ]
    },
    {
      "cell_type": "code",
      "metadata": {
        "id": "BDlYE6hlISrf"
      },
      "source": [
        "df_train = df_train.drop([\"PassengerId\",\"Name\",\"Ticket\",\"Cabin\",\"Embarked\"],axis=1)\n",
        "df_test = df_test.drop([\"PassengerId\",\"Name\",\"Ticket\",\"Cabin\",\"Embarked\"],axis=1)"
      ],
      "execution_count": null,
      "outputs": []
    },
    {
      "cell_type": "markdown",
      "metadata": {
        "id": "Pk0AVsGCb1tE"
      },
      "source": [
        "Finding number of empty entries"
      ]
    },
    {
      "cell_type": "code",
      "metadata": {
        "id": "shyyq1T4DUB8",
        "colab": {
          "base_uri": "https://localhost:8080/",
          "height": 151
        },
        "outputId": "81a9c7c8-575d-4993-a120-fc5b7d55650a"
      },
      "source": [
        "df_train.isnull().sum()"
      ],
      "execution_count": null,
      "outputs": [
        {
          "output_type": "execute_result",
          "data": {
            "text/plain": [
              "Survived      0\n",
              "Pclass        0\n",
              "Sex           0\n",
              "Age         177\n",
              "SibSp         0\n",
              "Parch         0\n",
              "Fare          0\n",
              "dtype: int64"
            ]
          },
          "metadata": {
            "tags": []
          },
          "execution_count": 115
        }
      ]
    },
    {
      "cell_type": "code",
      "metadata": {
        "id": "8IHi0hkXIFMn",
        "colab": {
          "base_uri": "https://localhost:8080/",
          "height": 134
        },
        "outputId": "b019edfb-79bf-4f3d-aa52-81af0b62870e"
      },
      "source": [
        "df_test.isnull().sum()"
      ],
      "execution_count": null,
      "outputs": [
        {
          "output_type": "execute_result",
          "data": {
            "text/plain": [
              "Pclass     0\n",
              "Sex        0\n",
              "Age       86\n",
              "SibSp      0\n",
              "Parch      0\n",
              "Fare       1\n",
              "dtype: int64"
            ]
          },
          "metadata": {
            "tags": []
          },
          "execution_count": 116
        }
      ]
    },
    {
      "cell_type": "code",
      "metadata": {
        "id": "FN2Wgx9RIOSn"
      },
      "source": [
        "m = df_train['Age'].mean()\n",
        "n = df_test['Age'].mean()\n",
        "df_train['Age'] = df_train['Age'].fillna(m)\n",
        "df_test['Age'] = df_test['Age'].fillna(n)\n",
        "df_test['Fare'] = df_test['Fare'].fillna(df_test['Fare'].mode()[0])"
      ],
      "execution_count": null,
      "outputs": []
    },
    {
      "cell_type": "code",
      "metadata": {
        "id": "--nabIFiTQHG",
        "colab": {
          "base_uri": "https://localhost:8080/",
          "height": 487
        },
        "outputId": "b282a828-766d-4fa9-a827-0bb2ef81cd33"
      },
      "source": [
        "df_train.info()\n",
        "print('-'*40)\n",
        "df_test.info()"
      ],
      "execution_count": null,
      "outputs": [
        {
          "output_type": "stream",
          "text": [
            "<class 'pandas.core.frame.DataFrame'>\n",
            "RangeIndex: 891 entries, 0 to 890\n",
            "Data columns (total 7 columns):\n",
            " #   Column    Non-Null Count  Dtype  \n",
            "---  ------    --------------  -----  \n",
            " 0   Survived  891 non-null    int64  \n",
            " 1   Pclass    891 non-null    int64  \n",
            " 2   Sex       891 non-null    int64  \n",
            " 3   Age       891 non-null    float64\n",
            " 4   SibSp     891 non-null    int64  \n",
            " 5   Parch     891 non-null    int64  \n",
            " 6   Fare      891 non-null    float64\n",
            "dtypes: float64(2), int64(5)\n",
            "memory usage: 48.9 KB\n",
            "----------------------------------------\n",
            "<class 'pandas.core.frame.DataFrame'>\n",
            "RangeIndex: 418 entries, 0 to 417\n",
            "Data columns (total 6 columns):\n",
            " #   Column  Non-Null Count  Dtype  \n",
            "---  ------  --------------  -----  \n",
            " 0   Pclass  418 non-null    int64  \n",
            " 1   Sex     418 non-null    int64  \n",
            " 2   Age     418 non-null    float64\n",
            " 3   SibSp   418 non-null    int64  \n",
            " 4   Parch   418 non-null    int64  \n",
            " 5   Fare    418 non-null    float64\n",
            "dtypes: float64(2), int64(4)\n",
            "memory usage: 19.7 KB\n"
          ],
          "name": "stdout"
        }
      ]
    },
    {
      "cell_type": "markdown",
      "metadata": {
        "id": "65jqt-vGcA2D"
      },
      "source": [
        "Finally, no null entries remain."
      ]
    },
    {
      "cell_type": "code",
      "metadata": {
        "id": "CIkE11UF_k0x",
        "colab": {
          "base_uri": "https://localhost:8080/",
          "height": 284
        },
        "outputId": "a2ce76b9-1542-41d4-9938-de1b0904f69d"
      },
      "source": [
        "df_train.describe()"
      ],
      "execution_count": null,
      "outputs": [
        {
          "output_type": "execute_result",
          "data": {
            "text/html": [
              "<div>\n",
              "<style scoped>\n",
              "    .dataframe tbody tr th:only-of-type {\n",
              "        vertical-align: middle;\n",
              "    }\n",
              "\n",
              "    .dataframe tbody tr th {\n",
              "        vertical-align: top;\n",
              "    }\n",
              "\n",
              "    .dataframe thead th {\n",
              "        text-align: right;\n",
              "    }\n",
              "</style>\n",
              "<table border=\"1\" class=\"dataframe\">\n",
              "  <thead>\n",
              "    <tr style=\"text-align: right;\">\n",
              "      <th></th>\n",
              "      <th>Survived</th>\n",
              "      <th>Pclass</th>\n",
              "      <th>Sex</th>\n",
              "      <th>Age</th>\n",
              "      <th>SibSp</th>\n",
              "      <th>Parch</th>\n",
              "      <th>Fare</th>\n",
              "    </tr>\n",
              "  </thead>\n",
              "  <tbody>\n",
              "    <tr>\n",
              "      <th>count</th>\n",
              "      <td>891.000000</td>\n",
              "      <td>891.000000</td>\n",
              "      <td>891.000000</td>\n",
              "      <td>891.000000</td>\n",
              "      <td>891.000000</td>\n",
              "      <td>891.000000</td>\n",
              "      <td>891.000000</td>\n",
              "    </tr>\n",
              "    <tr>\n",
              "      <th>mean</th>\n",
              "      <td>0.383838</td>\n",
              "      <td>2.308642</td>\n",
              "      <td>0.647587</td>\n",
              "      <td>29.699118</td>\n",
              "      <td>0.523008</td>\n",
              "      <td>0.381594</td>\n",
              "      <td>32.204208</td>\n",
              "    </tr>\n",
              "    <tr>\n",
              "      <th>std</th>\n",
              "      <td>0.486592</td>\n",
              "      <td>0.836071</td>\n",
              "      <td>0.477990</td>\n",
              "      <td>13.002015</td>\n",
              "      <td>1.102743</td>\n",
              "      <td>0.806057</td>\n",
              "      <td>49.693429</td>\n",
              "    </tr>\n",
              "    <tr>\n",
              "      <th>min</th>\n",
              "      <td>0.000000</td>\n",
              "      <td>1.000000</td>\n",
              "      <td>0.000000</td>\n",
              "      <td>0.420000</td>\n",
              "      <td>0.000000</td>\n",
              "      <td>0.000000</td>\n",
              "      <td>0.000000</td>\n",
              "    </tr>\n",
              "    <tr>\n",
              "      <th>25%</th>\n",
              "      <td>0.000000</td>\n",
              "      <td>2.000000</td>\n",
              "      <td>0.000000</td>\n",
              "      <td>22.000000</td>\n",
              "      <td>0.000000</td>\n",
              "      <td>0.000000</td>\n",
              "      <td>7.910400</td>\n",
              "    </tr>\n",
              "    <tr>\n",
              "      <th>50%</th>\n",
              "      <td>0.000000</td>\n",
              "      <td>3.000000</td>\n",
              "      <td>1.000000</td>\n",
              "      <td>29.699118</td>\n",
              "      <td>0.000000</td>\n",
              "      <td>0.000000</td>\n",
              "      <td>14.454200</td>\n",
              "    </tr>\n",
              "    <tr>\n",
              "      <th>75%</th>\n",
              "      <td>1.000000</td>\n",
              "      <td>3.000000</td>\n",
              "      <td>1.000000</td>\n",
              "      <td>35.000000</td>\n",
              "      <td>1.000000</td>\n",
              "      <td>0.000000</td>\n",
              "      <td>31.000000</td>\n",
              "    </tr>\n",
              "    <tr>\n",
              "      <th>max</th>\n",
              "      <td>1.000000</td>\n",
              "      <td>3.000000</td>\n",
              "      <td>1.000000</td>\n",
              "      <td>80.000000</td>\n",
              "      <td>8.000000</td>\n",
              "      <td>6.000000</td>\n",
              "      <td>512.329200</td>\n",
              "    </tr>\n",
              "  </tbody>\n",
              "</table>\n",
              "</div>"
            ],
            "text/plain": [
              "         Survived      Pclass         Sex  ...       SibSp       Parch        Fare\n",
              "count  891.000000  891.000000  891.000000  ...  891.000000  891.000000  891.000000\n",
              "mean     0.383838    2.308642    0.647587  ...    0.523008    0.381594   32.204208\n",
              "std      0.486592    0.836071    0.477990  ...    1.102743    0.806057   49.693429\n",
              "min      0.000000    1.000000    0.000000  ...    0.000000    0.000000    0.000000\n",
              "25%      0.000000    2.000000    0.000000  ...    0.000000    0.000000    7.910400\n",
              "50%      0.000000    3.000000    1.000000  ...    0.000000    0.000000   14.454200\n",
              "75%      1.000000    3.000000    1.000000  ...    1.000000    0.000000   31.000000\n",
              "max      1.000000    3.000000    1.000000  ...    8.000000    6.000000  512.329200\n",
              "\n",
              "[8 rows x 7 columns]"
            ]
          },
          "metadata": {
            "tags": []
          },
          "execution_count": 119
        }
      ]
    },
    {
      "cell_type": "markdown",
      "metadata": {
        "id": "ugY6xhiacPNQ"
      },
      "source": [
        "This indicates 38.38% of Survival Rate of passengers."
      ]
    },
    {
      "cell_type": "code",
      "metadata": {
        "id": "sP5BlpGvzh9F",
        "colab": {
          "base_uri": "https://localhost:8080/",
          "height": 166
        },
        "outputId": "b94c770d-9402-4fc2-a6da-822b2dd41cc4"
      },
      "source": [
        "pclass_survived = df_train[['Pclass', 'Survived']].groupby(['Pclass']).mean()\n",
        "pclass_survived"
      ],
      "execution_count": null,
      "outputs": [
        {
          "output_type": "execute_result",
          "data": {
            "text/html": [
              "<div>\n",
              "<style scoped>\n",
              "    .dataframe tbody tr th:only-of-type {\n",
              "        vertical-align: middle;\n",
              "    }\n",
              "\n",
              "    .dataframe tbody tr th {\n",
              "        vertical-align: top;\n",
              "    }\n",
              "\n",
              "    .dataframe thead th {\n",
              "        text-align: right;\n",
              "    }\n",
              "</style>\n",
              "<table border=\"1\" class=\"dataframe\">\n",
              "  <thead>\n",
              "    <tr style=\"text-align: right;\">\n",
              "      <th></th>\n",
              "      <th>Survived</th>\n",
              "    </tr>\n",
              "    <tr>\n",
              "      <th>Pclass</th>\n",
              "      <th></th>\n",
              "    </tr>\n",
              "  </thead>\n",
              "  <tbody>\n",
              "    <tr>\n",
              "      <th>1</th>\n",
              "      <td>0.629630</td>\n",
              "    </tr>\n",
              "    <tr>\n",
              "      <th>2</th>\n",
              "      <td>0.472826</td>\n",
              "    </tr>\n",
              "    <tr>\n",
              "      <th>3</th>\n",
              "      <td>0.242363</td>\n",
              "    </tr>\n",
              "  </tbody>\n",
              "</table>\n",
              "</div>"
            ],
            "text/plain": [
              "        Survived\n",
              "Pclass          \n",
              "1       0.629630\n",
              "2       0.472826\n",
              "3       0.242363"
            ]
          },
          "metadata": {
            "tags": []
          },
          "execution_count": 120
        }
      ]
    },
    {
      "cell_type": "code",
      "metadata": {
        "id": "EQ0fQBri5JeB",
        "colab": {
          "base_uri": "https://localhost:8080/",
          "height": 136
        },
        "outputId": "f4a8779b-f32e-43ed-cc30-d531e87adb48"
      },
      "source": [
        "sex_survived = df_train[['Sex', 'Survived']].groupby(['Sex']).mean()\n",
        "sex_survived"
      ],
      "execution_count": null,
      "outputs": [
        {
          "output_type": "execute_result",
          "data": {
            "text/html": [
              "<div>\n",
              "<style scoped>\n",
              "    .dataframe tbody tr th:only-of-type {\n",
              "        vertical-align: middle;\n",
              "    }\n",
              "\n",
              "    .dataframe tbody tr th {\n",
              "        vertical-align: top;\n",
              "    }\n",
              "\n",
              "    .dataframe thead th {\n",
              "        text-align: right;\n",
              "    }\n",
              "</style>\n",
              "<table border=\"1\" class=\"dataframe\">\n",
              "  <thead>\n",
              "    <tr style=\"text-align: right;\">\n",
              "      <th></th>\n",
              "      <th>Survived</th>\n",
              "    </tr>\n",
              "    <tr>\n",
              "      <th>Sex</th>\n",
              "      <th></th>\n",
              "    </tr>\n",
              "  </thead>\n",
              "  <tbody>\n",
              "    <tr>\n",
              "      <th>0</th>\n",
              "      <td>0.742038</td>\n",
              "    </tr>\n",
              "    <tr>\n",
              "      <th>1</th>\n",
              "      <td>0.188908</td>\n",
              "    </tr>\n",
              "  </tbody>\n",
              "</table>\n",
              "</div>"
            ],
            "text/plain": [
              "     Survived\n",
              "Sex          \n",
              "0    0.742038\n",
              "1    0.188908"
            ]
          },
          "metadata": {
            "tags": []
          },
          "execution_count": 121
        }
      ]
    },
    {
      "cell_type": "markdown",
      "metadata": {
        "id": "Jy4ME3z5c4dx"
      },
      "source": [
        "This shows that Females have higher survival rate i.e 74.20%"
      ]
    },
    {
      "cell_type": "code",
      "metadata": {
        "id": "tVUey2yu6QAh",
        "colab": {
          "base_uri": "https://localhost:8080/",
          "height": 195
        },
        "outputId": "7b22606f-375a-4ef2-a1e8-ebb2159aae83"
      },
      "source": [
        "df_train['AgeRange'] = pd.cut(df_train['Age'],5)\n",
        "age_range_survived = df_train[['AgeRange', 'Survived']].groupby(['AgeRange'],as_index=False).mean()\n",
        "age_range_survived"
      ],
      "execution_count": null,
      "outputs": [
        {
          "output_type": "execute_result",
          "data": {
            "text/html": [
              "<div>\n",
              "<style scoped>\n",
              "    .dataframe tbody tr th:only-of-type {\n",
              "        vertical-align: middle;\n",
              "    }\n",
              "\n",
              "    .dataframe tbody tr th {\n",
              "        vertical-align: top;\n",
              "    }\n",
              "\n",
              "    .dataframe thead th {\n",
              "        text-align: right;\n",
              "    }\n",
              "</style>\n",
              "<table border=\"1\" class=\"dataframe\">\n",
              "  <thead>\n",
              "    <tr style=\"text-align: right;\">\n",
              "      <th></th>\n",
              "      <th>AgeRange</th>\n",
              "      <th>Survived</th>\n",
              "    </tr>\n",
              "  </thead>\n",
              "  <tbody>\n",
              "    <tr>\n",
              "      <th>0</th>\n",
              "      <td>(0.34, 16.336]</td>\n",
              "      <td>0.550000</td>\n",
              "    </tr>\n",
              "    <tr>\n",
              "      <th>1</th>\n",
              "      <td>(16.336, 32.252]</td>\n",
              "      <td>0.344168</td>\n",
              "    </tr>\n",
              "    <tr>\n",
              "      <th>2</th>\n",
              "      <td>(32.252, 48.168]</td>\n",
              "      <td>0.404255</td>\n",
              "    </tr>\n",
              "    <tr>\n",
              "      <th>3</th>\n",
              "      <td>(48.168, 64.084]</td>\n",
              "      <td>0.434783</td>\n",
              "    </tr>\n",
              "    <tr>\n",
              "      <th>4</th>\n",
              "      <td>(64.084, 80.0]</td>\n",
              "      <td>0.090909</td>\n",
              "    </tr>\n",
              "  </tbody>\n",
              "</table>\n",
              "</div>"
            ],
            "text/plain": [
              "           AgeRange  Survived\n",
              "0    (0.34, 16.336]  0.550000\n",
              "1  (16.336, 32.252]  0.344168\n",
              "2  (32.252, 48.168]  0.404255\n",
              "3  (48.168, 64.084]  0.434783\n",
              "4    (64.084, 80.0]  0.090909"
            ]
          },
          "metadata": {
            "tags": []
          },
          "execution_count": 155
        }
      ]
    },
    {
      "cell_type": "markdown",
      "metadata": {
        "id": "2v4b4w31dGCA"
      },
      "source": [
        "Survival according to the age groups is done above\n",
        "\n",
        "Infants (Age <=4) had high survival rate.\n",
        "Max survival rate is seen in the Age range (0.34, 16.336]\t.\n",
        "Oldest passengers (Age = 80) survived."
      ]
    },
    {
      "cell_type": "code",
      "metadata": {
        "id": "OIcYlAH68o5p",
        "colab": {
          "base_uri": "https://localhost:8080/",
          "height": 284
        },
        "outputId": "d569543b-a4c5-41b0-e068-24561ae331d9"
      },
      "source": [
        "sibsp_survived = df_train[['SibSp', 'Survived']].groupby(['SibSp']).mean()\n",
        "sibsp_survived"
      ],
      "execution_count": null,
      "outputs": [
        {
          "output_type": "execute_result",
          "data": {
            "text/html": [
              "<div>\n",
              "<style scoped>\n",
              "    .dataframe tbody tr th:only-of-type {\n",
              "        vertical-align: middle;\n",
              "    }\n",
              "\n",
              "    .dataframe tbody tr th {\n",
              "        vertical-align: top;\n",
              "    }\n",
              "\n",
              "    .dataframe thead th {\n",
              "        text-align: right;\n",
              "    }\n",
              "</style>\n",
              "<table border=\"1\" class=\"dataframe\">\n",
              "  <thead>\n",
              "    <tr style=\"text-align: right;\">\n",
              "      <th></th>\n",
              "      <th>Survived</th>\n",
              "    </tr>\n",
              "    <tr>\n",
              "      <th>SibSp</th>\n",
              "      <th></th>\n",
              "    </tr>\n",
              "  </thead>\n",
              "  <tbody>\n",
              "    <tr>\n",
              "      <th>0</th>\n",
              "      <td>0.345395</td>\n",
              "    </tr>\n",
              "    <tr>\n",
              "      <th>1</th>\n",
              "      <td>0.535885</td>\n",
              "    </tr>\n",
              "    <tr>\n",
              "      <th>2</th>\n",
              "      <td>0.464286</td>\n",
              "    </tr>\n",
              "    <tr>\n",
              "      <th>3</th>\n",
              "      <td>0.250000</td>\n",
              "    </tr>\n",
              "    <tr>\n",
              "      <th>4</th>\n",
              "      <td>0.166667</td>\n",
              "    </tr>\n",
              "    <tr>\n",
              "      <th>5</th>\n",
              "      <td>0.000000</td>\n",
              "    </tr>\n",
              "    <tr>\n",
              "      <th>8</th>\n",
              "      <td>0.000000</td>\n",
              "    </tr>\n",
              "  </tbody>\n",
              "</table>\n",
              "</div>"
            ],
            "text/plain": [
              "       Survived\n",
              "SibSp          \n",
              "0      0.345395\n",
              "1      0.535885\n",
              "2      0.464286\n",
              "3      0.250000\n",
              "4      0.166667\n",
              "5      0.000000\n",
              "8      0.000000"
            ]
          },
          "metadata": {
            "tags": []
          },
          "execution_count": 123
        }
      ]
    },
    {
      "cell_type": "code",
      "metadata": {
        "id": "-Sul8EhV8pPb",
        "colab": {
          "base_uri": "https://localhost:8080/",
          "height": 284
        },
        "outputId": "d304ced4-31f2-4f60-9b56-f5db14c0934f"
      },
      "source": [
        "parch_survived = df_train[['Parch', 'Survived']].groupby(['Parch']).mean()\n",
        "parch_survived"
      ],
      "execution_count": null,
      "outputs": [
        {
          "output_type": "execute_result",
          "data": {
            "text/html": [
              "<div>\n",
              "<style scoped>\n",
              "    .dataframe tbody tr th:only-of-type {\n",
              "        vertical-align: middle;\n",
              "    }\n",
              "\n",
              "    .dataframe tbody tr th {\n",
              "        vertical-align: top;\n",
              "    }\n",
              "\n",
              "    .dataframe thead th {\n",
              "        text-align: right;\n",
              "    }\n",
              "</style>\n",
              "<table border=\"1\" class=\"dataframe\">\n",
              "  <thead>\n",
              "    <tr style=\"text-align: right;\">\n",
              "      <th></th>\n",
              "      <th>Survived</th>\n",
              "    </tr>\n",
              "    <tr>\n",
              "      <th>Parch</th>\n",
              "      <th></th>\n",
              "    </tr>\n",
              "  </thead>\n",
              "  <tbody>\n",
              "    <tr>\n",
              "      <th>0</th>\n",
              "      <td>0.343658</td>\n",
              "    </tr>\n",
              "    <tr>\n",
              "      <th>1</th>\n",
              "      <td>0.550847</td>\n",
              "    </tr>\n",
              "    <tr>\n",
              "      <th>2</th>\n",
              "      <td>0.500000</td>\n",
              "    </tr>\n",
              "    <tr>\n",
              "      <th>3</th>\n",
              "      <td>0.600000</td>\n",
              "    </tr>\n",
              "    <tr>\n",
              "      <th>4</th>\n",
              "      <td>0.000000</td>\n",
              "    </tr>\n",
              "    <tr>\n",
              "      <th>5</th>\n",
              "      <td>0.200000</td>\n",
              "    </tr>\n",
              "    <tr>\n",
              "      <th>6</th>\n",
              "      <td>0.000000</td>\n",
              "    </tr>\n",
              "  </tbody>\n",
              "</table>\n",
              "</div>"
            ],
            "text/plain": [
              "       Survived\n",
              "Parch          \n",
              "0      0.343658\n",
              "1      0.550847\n",
              "2      0.500000\n",
              "3      0.600000\n",
              "4      0.000000\n",
              "5      0.200000\n",
              "6      0.000000"
            ]
          },
          "metadata": {
            "tags": []
          },
          "execution_count": 124
        }
      ]
    },
    {
      "cell_type": "markdown",
      "metadata": {
        "id": "0RPPvAZ8_bMb"
      },
      "source": [
        "##Visualization"
      ]
    },
    {
      "cell_type": "code",
      "metadata": {
        "id": "39F0uO95GCSr",
        "colab": {
          "base_uri": "https://localhost:8080/",
          "height": 420
        },
        "outputId": "0ccb7d08-b025-4ece-e000-cc2d0ddaeb31"
      },
      "source": [
        "print(df_train.corr())\n",
        "sns.heatmap(df_train.corr(),cmap=\"copper\",annot=True,linewidths=0.2)"
      ],
      "execution_count": null,
      "outputs": [
        {
          "output_type": "stream",
          "text": [
            "          Survived    Pclass       Sex       Age     SibSp     Parch      Fare\n",
            "Survived  1.000000 -0.338481 -0.543351 -0.069809 -0.035322  0.081629  0.257307\n",
            "Pclass   -0.338481  1.000000  0.131900 -0.331339  0.083081  0.018443 -0.549500\n",
            "Sex      -0.543351  0.131900  1.000000  0.084153 -0.114631 -0.245489 -0.182333\n",
            "Age      -0.069809 -0.331339  0.084153  1.000000 -0.232625 -0.179191  0.091566\n",
            "SibSp    -0.035322  0.083081 -0.114631 -0.232625  1.000000  0.414838  0.159651\n",
            "Parch     0.081629  0.018443 -0.245489 -0.179191  0.414838  1.000000  0.216225\n",
            "Fare      0.257307 -0.549500 -0.182333  0.091566  0.159651  0.216225  1.000000\n"
          ],
          "name": "stdout"
        },
        {
          "output_type": "execute_result",
          "data": {
            "text/plain": [
              "<matplotlib.axes._subplots.AxesSubplot at 0x7f111e238b70>"
            ]
          },
          "metadata": {
            "tags": []
          },
          "execution_count": 125
        },
        {
          "output_type": "display_data",
          "data": {
            "image/png": "[encoded data removed]",
            "text/plain": [
              "<Figure size 432x288 with 2 Axes>"
            ]
          },
          "metadata": {
            "tags": [],
            "needs_background": "light"
          }
        }
      ]
    },
    {
      "cell_type": "code",
      "metadata": {
        "id": "O3BJcwQh8pdD",
        "colab": {
          "base_uri": "https://localhost:8080/",
          "height": 572
        },
        "outputId": "a0d49da1-c8c7-4717-8c6e-4867e4db4042"
      },
      "source": [
        "pd.crosstab(df_train.Pclass,df_train.Survived).plot(kind='bar'),pd.crosstab(df_train.Pclass,df_train.Survived).plot(kind='line')"
      ],
      "execution_count": null,
      "outputs": [
        {
          "output_type": "execute_result",
          "data": {
            "text/plain": [
              "(<matplotlib.axes._subplots.AxesSubplot at 0x7f111e261f28>,\n",
              " <matplotlib.axes._subplots.AxesSubplot at 0x7f111e12f2e8>)"
            ]
          },
          "metadata": {
            "tags": []
          },
          "execution_count": 126
        },
        {
          "output_type": "display_data",
          "data": {
            "image/png": "[encoded data removed]",
            "text/plain": [
              "<Figure size 432x288 with 1 Axes>"
            ]
          },
          "metadata": {
            "tags": [],
            "needs_background": "light"
          }
        },
        {
          "output_type": "display_data",
          "data": {
            "image/png": "[encoded data removed]",
            "text/plain": [
              "<Figure size 432x288 with 1 Axes>"
            ]
          },
          "metadata": {
            "tags": [],
            "needs_background": "light"
          }
        }
      ]
    },
    {
      "cell_type": "markdown",
      "metadata": {
        "id": "6KqdTwkVhDdm"
      },
      "source": [
        "Hence, Maximum Survival is seen in the !st Class Passenger group.\n",
        "There are many passengers in 3rd class but max did not survive."
      ]
    },
    {
      "cell_type": "code",
      "metadata": {
        "id": "43KuHqTRGBe7",
        "colab": {
          "base_uri": "https://localhost:8080/",
          "height": 727
        },
        "outputId": "b189f809-215f-475b-dc62-81676a03df1a"
      },
      "source": [
        "ptf = sns.FacetGrid(df_train,row=\"Pclass\",col=\"Survived\",hue=\"Survived\")\n",
        "ptf.map(sns.barplot,\"Sex\",\"Fare\",ci=None)"
      ],
      "execution_count": null,
      "outputs": [
        {
          "output_type": "stream",
          "text": [
            "/usr/local/lib/python3.6/dist-packages/seaborn/axisgrid.py:723: UserWarning: Using the barplot function without specifying `order` is likely to produce an incorrect plot.\n",
            "  warnings.warn(warning)\n"
          ],
          "name": "stderr"
        },
        {
          "output_type": "execute_result",
          "data": {
            "text/plain": [
              "<seaborn.axisgrid.FacetGrid at 0x7f111ec41f60>"
            ]
          },
          "metadata": {
            "tags": []
          },
          "execution_count": 127
        },
        {
          "output_type": "display_data",
          "data": {
            "image/png": "[encoded data removed]",
            "text/plain": [
              "<Figure size 432x648 with 6 Axes>"
            ]
          },
          "metadata": {
            "tags": [],
            "needs_background": "light"
          }
        }
      ]
    },
    {
      "cell_type": "markdown",
      "metadata": {
        "id": "QlJ6GlkwhbXs"
      },
      "source": [
        "Here, passengers paying higher fare survived the most."
      ]
    },
    {
      "cell_type": "code",
      "metadata": {
        "id": "eC8CvT8WxSVn",
        "colab": {
          "base_uri": "https://localhost:8080/",
          "height": 296
        },
        "outputId": "3e2373b9-8fd4-4e47-9851-f013eb853a66"
      },
      "source": [
        "sns.countplot(\"SibSp\",hue=\"Survived\",data=df_train)"
      ],
      "execution_count": null,
      "outputs": [
        {
          "output_type": "execute_result",
          "data": {
            "text/plain": [
              "<matplotlib.axes._subplots.AxesSubplot at 0x7f111dea46d8>"
            ]
          },
          "metadata": {
            "tags": []
          },
          "execution_count": 128
        },
        {
          "output_type": "display_data",
          "data": {
            "image/png": "[encoded data removed]",
            "text/plain": [
              "<Figure size 432x288 with 1 Axes>"
            ]
          },
          "metadata": {
            "tags": [],
            "needs_background": "light"
          }
        }
      ]
    },
    {
      "cell_type": "code",
      "metadata": {
        "id": "sZ6LX-UgxSKQ",
        "colab": {
          "base_uri": "https://localhost:8080/",
          "height": 296
        },
        "outputId": "30bc0e46-1268-4381-bd9f-de6a1e2ae1c2"
      },
      "source": [
        "sns.countplot(\"Parch\",hue=\"Survived\",data=df_train)"
      ],
      "execution_count": null,
      "outputs": [
        {
          "output_type": "execute_result",
          "data": {
            "text/plain": [
              "<matplotlib.axes._subplots.AxesSubplot at 0x7f111e15a1d0>"
            ]
          },
          "metadata": {
            "tags": []
          },
          "execution_count": 129
        },
        {
          "output_type": "display_data",
          "data": {
            "image/png": "[encoded data removed]",
            "text/plain": [
              "<Figure size 432x288 with 1 Axes>"
            ]
          },
          "metadata": {
            "tags": [],
            "needs_background": "light"
          }
        }
      ]
    },
    {
      "cell_type": "markdown",
      "metadata": {
        "id": "0GnpXJPjfGKS"
      },
      "source": [
        "Hence from above, Passengers who were alone had maximum survival rate."
      ]
    },
    {
      "cell_type": "code",
      "metadata": {
        "id": "tVegYMS08Q0f",
        "colab": {
          "base_uri": "https://localhost:8080/",
          "height": 510
        },
        "outputId": "9410a1b9-d9fd-4fab-f6ef-4d9f55744fb9"
      },
      "source": [
        "plt.pie(\"Survived\",data=age_range_survived,labels=\"AgeRange\",shadow=True,frame=True)\n",
        "plt.title(\"AgeRange Survived\")\n",
        "plt.legend()"
      ],
      "execution_count": null,
      "outputs": [
        {
          "output_type": "execute_result",
          "data": {
            "text/plain": [
              "<matplotlib.legend.Legend at 0x7f111d66cf60>"
            ]
          },
          "metadata": {
            "tags": []
          },
          "execution_count": 156
        },
        {
          "output_type": "display_data",
          "data": {
            "image/png": "[encoded data removed]",
            "text/plain": [
              "<Figure size 432x288 with 1 Axes>"
            ]
          },
          "metadata": {
            "tags": [],
            "needs_background": "light"
          }
        }
      ]
    },
    {
      "cell_type": "markdown",
      "metadata": {
        "id": "TFs-8FsTfOw4"
      },
      "source": [
        "Survival according to different age groups is shown above.\n",
        "\n",
        "Infants (Age <=4) had high survival rate.\n",
        "Max survival rate is seen in the Age range (0.34, 16.336]\t.\n",
        "Oldest passengers (Age = 80) survived."
      ]
    },
    {
      "cell_type": "markdown",
      "metadata": {
        "id": "YZ9eh1YjziyL"
      },
      "source": [
        "##Models"
      ]
    },
    {
      "cell_type": "markdown",
      "metadata": {
        "id": "Qy3I_Mxcfe21"
      },
      "source": [
        "According to the data, Classification is the most important here.\n",
        "So the models implemented are - \n",
        "\n",
        "1. Logistic Regression\n",
        "2. Support Vector Machines\n",
        "3. Naive Bayes Classifier\n",
        "4. Decission Tree Classifier\n",
        "5. Random Forest Classifier"
      ]
    },
    {
      "cell_type": "code",
      "metadata": {
        "id": "qw9jWwGRTegP"
      },
      "source": [
        "X = df_train.drop(['Survived','AgeRange'],axis=1)\n",
        "Y = df_train.Survived\n",
        "X_test = df_test\n",
        "from sklearn.model_selection import train_test_split\n",
        "X_train,X_check,y_train,y_check = train_test_split(X,Y,test_size=0.3)"
      ],
      "execution_count": null,
      "outputs": []
    },
    {
      "cell_type": "code",
      "metadata": {
        "id": "TMXyfibV84iK",
        "colab": {
          "base_uri": "https://localhost:8080/",
          "height": 67
        },
        "outputId": "a8ec329e-b9ce-40ec-8b3e-649509a8a6fd"
      },
      "source": [
        "print('Shape of X_train:',X_train.shape)\n",
        "print('Shape of X_check:',X_check.shape)\n",
        "print('Shape of X_test:',X_test.shape)"
      ],
      "execution_count": null,
      "outputs": [
        {
          "output_type": "stream",
          "text": [
            "Shape of X_train: (623, 6)\n",
            "Shape of X_check: (268, 6)\n",
            "Shape of X_test: (418, 6)\n"
          ],
          "name": "stdout"
        }
      ]
    },
    {
      "cell_type": "code",
      "metadata": {
        "id": "3iAqwljK2naw"
      },
      "source": [
        "from sklearn.linear_model import LogisticRegression\n",
        "from sklearn.svm import SVC\n",
        "from sklearn.naive_bayes import GaussianNB,MultinomialNB,BernoulliNB\n",
        "from sklearn.tree import DecisionTreeClassifier\n",
        "from sklearn.ensemble import RandomForestClassifier"
      ],
      "execution_count": null,
      "outputs": []
    },
    {
      "cell_type": "markdown",
      "metadata": {
        "id": "krOwY82q1ljg"
      },
      "source": [
        "####Logistic Regression"
      ]
    },
    {
      "cell_type": "code",
      "metadata": {
        "id": "OJjeZANy2KsY",
        "colab": {
          "base_uri": "https://localhost:8080/",
          "height": 34
        },
        "outputId": "1b5e233f-35c3-4de8-93d5-6ab842d03a91"
      },
      "source": [
        "LR = LogisticRegression()\n",
        "LR.fit(X_train,y_train)\n",
        "LR.score(X_check,y_check)"
      ],
      "execution_count": null,
      "outputs": [
        {
          "output_type": "execute_result",
          "data": {
            "text/plain": [
              "0.8097014925373134"
            ]
          },
          "metadata": {
            "tags": []
          },
          "execution_count": 133
        }
      ]
    },
    {
      "cell_type": "markdown",
      "metadata": {
        "id": "0eDT-kda1mgm"
      },
      "source": [
        "####Support Vector Machines"
      ]
    },
    {
      "cell_type": "code",
      "metadata": {
        "id": "7438_h812LmR",
        "colab": {
          "base_uri": "https://localhost:8080/",
          "height": 34
        },
        "outputId": "0a637f65-63c3-40b1-eef3-2c5f135bd5b2"
      },
      "source": [
        "Sv1 = SVC(C=50,kernel=\"linear\",gamma=\"scale\")\n",
        "Sv1.fit(X_train,y_train)\n",
        "Sv1.score(X_check,y_check)"
      ],
      "execution_count": null,
      "outputs": [
        {
          "output_type": "execute_result",
          "data": {
            "text/plain": [
              "0.7798507462686567"
            ]
          },
          "metadata": {
            "tags": []
          },
          "execution_count": 134
        }
      ]
    },
    {
      "cell_type": "code",
      "metadata": {
        "id": "YT53fmtOAq4k",
        "colab": {
          "base_uri": "https://localhost:8080/",
          "height": 34
        },
        "outputId": "c2c04a2c-ce28-45ae-d451-8a27b3722f59"
      },
      "source": [
        "Sv2 = SVC(C=50,kernel=\"rbf\",gamma=\"scale\")\n",
        "Sv2.fit(X_train,y_train)\n",
        "Sv2.score(X_check,y_check)"
      ],
      "execution_count": null,
      "outputs": [
        {
          "output_type": "execute_result",
          "data": {
            "text/plain": [
              "0.7873134328358209"
            ]
          },
          "metadata": {
            "tags": []
          },
          "execution_count": 135
        }
      ]
    },
    {
      "cell_type": "markdown",
      "metadata": {
        "id": "ytgXRZMk1mUQ"
      },
      "source": [
        "####Naive Bayes classifier"
      ]
    },
    {
      "cell_type": "code",
      "metadata": {
        "id": "ekJ0o-9-2MlW",
        "colab": {
          "base_uri": "https://localhost:8080/",
          "height": 34
        },
        "outputId": "c0e52527-62e4-4cff-efec-f44b22686153"
      },
      "source": [
        "NB = GaussianNB()\n",
        "NB.fit(X_train,y_train)\n",
        "NB.score(X_check,y_check)"
      ],
      "execution_count": null,
      "outputs": [
        {
          "output_type": "execute_result",
          "data": {
            "text/plain": [
              "0.8022388059701493"
            ]
          },
          "metadata": {
            "tags": []
          },
          "execution_count": 136
        }
      ]
    },
    {
      "cell_type": "code",
      "metadata": {
        "id": "9IWLp2boBpIM",
        "colab": {
          "base_uri": "https://localhost:8080/",
          "height": 34
        },
        "outputId": "4e34fb23-5a6b-4491-a675-cf0a1f67fcc1"
      },
      "source": [
        "BB = BernoulliNB()\n",
        "BB.fit(X_train,y_train)\n",
        "BB.score(X_check,y_check)"
      ],
      "execution_count": null,
      "outputs": [
        {
          "output_type": "execute_result",
          "data": {
            "text/plain": [
              "0.7798507462686567"
            ]
          },
          "metadata": {
            "tags": []
          },
          "execution_count": 137
        }
      ]
    },
    {
      "cell_type": "code",
      "metadata": {
        "id": "0BnhPDX9Bspg",
        "colab": {
          "base_uri": "https://localhost:8080/",
          "height": 34
        },
        "outputId": "f24dca1f-ece9-4ce9-cc64-6f702e7a9802"
      },
      "source": [
        "MB = MultinomialNB()\n",
        "MB.fit(X_train,y_train)\n",
        "MB.score(X_check,y_check)"
      ],
      "execution_count": null,
      "outputs": [
        {
          "output_type": "execute_result",
          "data": {
            "text/plain": [
              "0.6977611940298507"
            ]
          },
          "metadata": {
            "tags": []
          },
          "execution_count": 138
        }
      ]
    },
    {
      "cell_type": "markdown",
      "metadata": {
        "id": "qJv9S4Sm1mHT"
      },
      "source": [
        "Decision Tree Classifier"
      ]
    },
    {
      "cell_type": "code",
      "metadata": {
        "id": "oq7J8FB12NbW",
        "colab": {
          "base_uri": "https://localhost:8080/",
          "height": 34
        },
        "outputId": "1fb84c3c-f96e-42da-9e3b-6ae0ad6353d8"
      },
      "source": [
        "DTC = DecisionTreeClassifier(criterion='gini')\n",
        "DTC.fit(X_train,y_train)\n",
        "DTC.score(X_check,y_check)"
      ],
      "execution_count": null,
      "outputs": [
        {
          "output_type": "execute_result",
          "data": {
            "text/plain": [
              "0.7761194029850746"
            ]
          },
          "metadata": {
            "tags": []
          },
          "execution_count": 139
        }
      ]
    },
    {
      "cell_type": "markdown",
      "metadata": {
        "id": "wZMo-ep42Bbh"
      },
      "source": [
        "####Random Forest Classifier"
      ]
    },
    {
      "cell_type": "code",
      "metadata": {
        "id": "NtbqXAZY2OcU",
        "colab": {
          "base_uri": "https://localhost:8080/",
          "height": 34
        },
        "outputId": "8d817d50-837c-40c7-cb8b-0cb592bae15f"
      },
      "source": [
        "RFC = RandomForestClassifier()\n",
        "RFC.fit(X_train,y_train)\n",
        "RFC.score(X_check,y_check)"
      ],
      "execution_count": null,
      "outputs": [
        {
          "output_type": "execute_result",
          "data": {
            "text/plain": [
              "0.8134328358208955"
            ]
          },
          "metadata": {
            "tags": []
          },
          "execution_count": 140
        }
      ]
    },
    {
      "cell_type": "markdown",
      "metadata": {
        "id": "356P9gFWusnQ"
      },
      "source": [
        "####Prediction"
      ]
    },
    {
      "cell_type": "markdown",
      "metadata": {
        "id": "Mtr5cokCgNp0"
      },
      "source": [
        "According to the highest accuracy achieved, model is selected and Predictions using that model is done."
      ]
    },
    {
      "cell_type": "code",
      "metadata": {
        "id": "CNhUa9f_uvUy",
        "colab": {
          "base_uri": "https://localhost:8080/",
          "height": 284
        },
        "outputId": "0cec21a3-4b2a-4f34-922a-8d05d67fb384"
      },
      "source": [
        "models = pd.DataFrame({\n",
        "    'Model': ['SVM - linear', 'SVM - rbf', 'Logistic Regression', \n",
        "              'Random Forest Classifier', 'Naive Bayes - Gaussian', 'Naive Bayes - Bernoulli', 'Naive Bayes - Multinomial', 'Decision Tree Classifier'],\n",
        "    'Score': [Sv1.score(X_check,y_check),Sv2.score(X_check,y_check),LR.score(X_check,y_check),\n",
        "              RFC.score(X_check,y_check),NB.score(X_check,y_check),BB.score(X_check,y_check),\n",
        "              MB.score(X_check,y_check),DTC.score(X_check,y_check)]})\n",
        "models.sort_values(by=\"Score\")"
      ],
      "execution_count": null,
      "outputs": [
        {
          "output_type": "execute_result",
          "data": {
            "text/html": [
              "<div>\n",
              "<style scoped>\n",
              "    .dataframe tbody tr th:only-of-type {\n",
              "        vertical-align: middle;\n",
              "    }\n",
              "\n",
              "    .dataframe tbody tr th {\n",
              "        vertical-align: top;\n",
              "    }\n",
              "\n",
              "    .dataframe thead th {\n",
              "        text-align: right;\n",
              "    }\n",
              "</style>\n",
              "<table border=\"1\" class=\"dataframe\">\n",
              "  <thead>\n",
              "    <tr style=\"text-align: right;\">\n",
              "      <th></th>\n",
              "      <th>Model</th>\n",
              "      <th>Score</th>\n",
              "    </tr>\n",
              "  </thead>\n",
              "  <tbody>\n",
              "    <tr>\n",
              "      <th>6</th>\n",
              "      <td>Naive Bayes - Multinomial</td>\n",
              "      <td>0.697761</td>\n",
              "    </tr>\n",
              "    <tr>\n",
              "      <th>7</th>\n",
              "      <td>Decision Tree Classifier</td>\n",
              "      <td>0.776119</td>\n",
              "    </tr>\n",
              "    <tr>\n",
              "      <th>0</th>\n",
              "      <td>SVM - linear</td>\n",
              "      <td>0.779851</td>\n",
              "    </tr>\n",
              "    <tr>\n",
              "      <th>5</th>\n",
              "      <td>Naive Bayes - Bernoulli</td>\n",
              "      <td>0.779851</td>\n",
              "    </tr>\n",
              "    <tr>\n",
              "      <th>1</th>\n",
              "      <td>SVM - rbf</td>\n",
              "      <td>0.787313</td>\n",
              "    </tr>\n",
              "    <tr>\n",
              "      <th>4</th>\n",
              "      <td>Naive Bayes - Gaussian</td>\n",
              "      <td>0.802239</td>\n",
              "    </tr>\n",
              "    <tr>\n",
              "      <th>2</th>\n",
              "      <td>Logistic Regression</td>\n",
              "      <td>0.809701</td>\n",
              "    </tr>\n",
              "    <tr>\n",
              "      <th>3</th>\n",
              "      <td>Random Forest Classifier</td>\n",
              "      <td>0.813433</td>\n",
              "    </tr>\n",
              "  </tbody>\n",
              "</table>\n",
              "</div>"
            ],
            "text/plain": [
              "                       Model     Score\n",
              "6  Naive Bayes - Multinomial  0.697761\n",
              "7   Decision Tree Classifier  0.776119\n",
              "0               SVM - linear  0.779851\n",
              "5    Naive Bayes - Bernoulli  0.779851\n",
              "1                  SVM - rbf  0.787313\n",
              "4     Naive Bayes - Gaussian  0.802239\n",
              "2        Logistic Regression  0.809701\n",
              "3   Random Forest Classifier  0.813433"
            ]
          },
          "metadata": {
            "tags": []
          },
          "execution_count": 160
        }
      ]
    },
    {
      "cell_type": "code",
      "metadata": {
        "id": "zWzqgkYrxFK4",
        "colab": {
          "base_uri": "https://localhost:8080/",
          "height": 336
        },
        "outputId": "aea8bab6-b76c-4f28-93fd-81056b8a0128"
      },
      "source": [
        "y_test = RFC.predict(X_test)\n",
        "y_test"
      ],
      "execution_count": null,
      "outputs": [
        {
          "output_type": "execute_result",
          "data": {
            "text/plain": [
              "array([0, 0, 1, 1, 0, 0, 0, 0, 1, 0, 0, 0, 1, 0, 1, 1, 0, 1, 0, 0, 1, 0,\n",
              "       1, 1, 1, 0, 1, 1, 0, 0, 0, 0, 1, 0, 1, 0, 0, 0, 0, 1, 0, 0, 0, 1,\n",
              "       1, 0, 0, 0, 1, 1, 1, 0, 1, 1, 0, 0, 0, 0, 0, 1, 0, 0, 0, 1, 1, 1,\n",
              "       0, 0, 0, 1, 1, 0, 0, 0, 1, 0, 0, 1, 0, 1, 1, 0, 0, 0, 0, 0, 1, 0,\n",
              "       1, 1, 0, 1, 1, 0, 0, 0, 1, 1, 0, 0, 1, 0, 0, 0, 0, 0, 0, 0, 0, 0,\n",
              "       0, 1, 1, 1, 1, 0, 0, 1, 0, 1, 1, 0, 1, 0, 0, 0, 0, 0, 1, 0, 0, 0,\n",
              "       0, 0, 0, 0, 0, 0, 0, 0, 0, 1, 0, 0, 1, 0, 0, 0, 0, 0, 1, 0, 0, 1,\n",
              "       0, 0, 1, 1, 1, 1, 1, 1, 1, 0, 1, 0, 0, 0, 1, 0, 0, 0, 0, 0, 0, 1,\n",
              "       1, 0, 1, 1, 0, 0, 1, 0, 1, 0, 1, 0, 0, 0, 0, 0, 1, 0, 1, 0, 1, 0,\n",
              "       0, 0, 1, 1, 0, 1, 0, 0, 0, 0, 1, 0, 0, 0, 0, 0, 1, 0, 1, 0, 1, 0,\n",
              "       1, 0, 1, 0, 1, 1, 0, 1, 0, 0, 0, 1, 0, 0, 0, 0, 0, 1, 1, 1, 1, 1,\n",
              "       0, 0, 0, 0, 1, 0, 1, 0, 1, 0, 1, 0, 0, 0, 0, 0, 1, 0, 0, 0, 1, 1,\n",
              "       0, 0, 0, 0, 0, 0, 0, 0, 1, 1, 0, 1, 0, 0, 0, 0, 0, 1, 1, 0, 1, 0,\n",
              "       0, 0, 0, 0, 0, 1, 0, 0, 0, 0, 1, 0, 0, 0, 0, 0, 0, 0, 1, 1, 0, 1,\n",
              "       0, 0, 0, 1, 0, 0, 1, 1, 0, 0, 0, 0, 0, 0, 0, 1, 1, 0, 1, 0, 0, 0,\n",
              "       1, 0, 0, 0, 0, 0, 0, 0, 0, 0, 0, 0, 0, 1, 1, 1, 0, 0, 0, 1, 1, 0,\n",
              "       0, 0, 1, 0, 1, 0, 0, 1, 0, 1, 1, 1, 1, 0, 0, 0, 1, 0, 0, 1, 0, 1,\n",
              "       1, 1, 0, 0, 0, 0, 0, 0, 1, 0, 0, 1, 0, 0, 0, 0, 0, 1, 0, 0, 0, 1,\n",
              "       0, 1, 0, 0, 1, 0, 1, 0, 0, 0, 0, 0, 1, 1, 1, 1, 1, 0, 1, 0, 0, 0])"
            ]
          },
          "metadata": {
            "tags": []
          },
          "execution_count": 143
        }
      ]
    },
    {
      "cell_type": "markdown",
      "metadata": {
        "id": "tSB19SD8gYLv"
      },
      "source": [
        "Above are the predictions."
      ]
    },
    {
      "cell_type": "markdown",
      "metadata": {
        "id": "N-VBkT4h2P58"
      },
      "source": [
        "##Conclusion\n",
        "\n",
        "Hence,\n",
        "\n",
        "        1. Hence, Maximum Survival is seen in the 1st Class Passenger group. There are many passengers in 3rd class but max did not survive.\n",
        "        2. High Fare paying passengers were most survived.\n",
        "        3. Number of females who survived are more than the males (This shows that Females have higher survival rate i.e 74.20%)\n",
        "        4. Infants (Age <=4) had high survival rate. Max survival rate is seen in the Age range (0.34, 16.336]. Oldest passengers (Age = 80) survived.\n",
        "        5. Passengers who were alone had maximum survival rate.\n",
        "        6. Accuracies of different models are acquired. The highest score is selected and the prediction on test data is done."
      ]
    }
  ]
}